{
 "cells": [
  {
   "cell_type": "code",
   "execution_count": 10,
   "metadata": {},
   "outputs": [],
   "source": [
    "from keras.preprocessing.image import ImageDataGenerator\n",
    "from keras.applications import MobileNetV2\n",
    "from keras.layers import AveragePooling2D, Dropout, Flatten, Dense, Input, GlobalAveragePooling2D, Conv2D, MaxPooling2D\n",
    "from keras import regularizers\n",
    "from keras.models import Model, Sequential\n",
    "from keras.optimizers import Adam\n",
    "from keras.applications.mobilenet_v2 import preprocess_input\n",
    "from sklearn.metrics import classification_report, confusion_matrix\n",
    "import matplotlib.pyplot as plt\n",
    "import numpy as np\n",
    "import pickle\n",
    "import os\n",
    "from keras.callbacks import ModelCheckpoint, EarlyStopping, ReduceLROnPlateau\n",
    "import cv2\n",
    "from keras.models import load_model\n",
    "import Viz"
   ]
  },
  {
   "cell_type": "code",
   "execution_count": 11,
   "metadata": {},
   "outputs": [],
   "source": [
    "model_name = 'BW'\n",
    "def get_pickles(name):\n",
    "    combined_dict = pickle.load(open(f'../Pickles/TTSDict_{name}.p', 'rb'))\n",
    "    \n",
    "    x_train = combined_dict['train']['images']\n",
    "    x_test = combined_dict['test']['images']\n",
    "    \n",
    "    y_train = combined_dict['train']['labels']\n",
    "    y_test = combined_dict['test']['labels']\n",
    "    \n",
    "    validation = combined_dict['validation']\n",
    "    \n",
    "    return x_train, x_test, y_train, y_test, validation \n",
    "\n",
    "x_train, x_test, y_train, y_test, validation  = get_pickles(model_name) "
   ]
  },
  {
   "cell_type": "code",
   "execution_count": 13,
   "metadata": {},
   "outputs": [
    {
     "name": "stdout",
     "output_type": "stream",
     "text": [
      "MODEL: \tBW\n",
      "(10000, 250, 250, 1) (992, 250, 250, 1)\n",
      "(10000, 2) (992, 2)\n"
     ]
    }
   ],
   "source": [
    "print(f'MODEL: \\t{model_name}')\n",
    "print(x_train.shape, x_test.shape)\n",
    "print(y_train.shape, y_test.shape)"
   ]
  },
  {
   "cell_type": "code",
   "execution_count": 14,
   "metadata": {},
   "outputs": [],
   "source": [
    "def get_conv_model(dim):\n",
    "    '''This function will create and compile a CNN given the input dimension'''\n",
    "    inp_shape = dim\n",
    "    act = 'relu'\n",
    "    drop = .25\n",
    "    kernal_reg = regularizers.l1(.001)\n",
    "    optimizer = Adam(lr = .0001)\n",
    "    \n",
    "    model = Sequential() \n",
    "    \n",
    "    model.add(Conv2D(64, kernel_size=(3,3),activation=act, input_shape = inp_shape, \n",
    "                     kernel_regularizer = kernal_reg,\n",
    "                     kernel_initializer = 'he_uniform',  padding = 'same', name = 'Input_Layer'))\n",
    "    model.add(MaxPooling2D(pool_size=(2, 2),  strides = (3,3)))\n",
    "    \n",
    "    \n",
    "    model.add(Conv2D(64, (3, 3), activation=act, kernel_regularizer = kernal_reg, \n",
    "                     kernel_initializer = 'he_uniform',padding = 'same'))\n",
    "    model.add(MaxPooling2D(pool_size=(2, 2), strides = (3,3)))\n",
    "    \n",
    "\n",
    "    \n",
    "    model.add(Conv2D(128, (3, 3), activation=act, kernel_regularizer = kernal_reg, \n",
    "                     kernel_initializer = 'he_uniform',padding = 'same'))\n",
    "    model.add(Conv2D(128, (3, 3), activation=act, kernel_regularizer = kernal_reg, \n",
    "                     kernel_initializer = 'he_uniform',padding = 'same'))\n",
    "    model.add(MaxPooling2D(pool_size=(2, 2), strides = (3,3)))\n",
    "\n",
    "    model.add(Flatten())\n",
    "\n",
    "    \n",
    "    model.add(Dense(128, activation='relu'))\n",
    "    model.add(Dense(64, activation='relu'))\n",
    "\n",
    "    model.add(Dropout(drop))\n",
    "\n",
    "    model.add(Dense(2, activation='sigmoid', name = 'Output_Layer'))\n",
    "    \n",
    "    model.compile(loss = 'binary_crossentropy', optimizer = optimizer, metrics = ['accuracy'])\n",
    "    return model\n"
   ]
  },
  {
   "cell_type": "code",
   "execution_count": 15,
   "metadata": {},
   "outputs": [
    {
     "name": "stdout",
     "output_type": "stream",
     "text": [
      "Epoch 1/2000\n"
     ]
    },
    {
     "name": "stderr",
     "output_type": "stream",
     "text": [
      "INFO:plaidml:Analyzing Ops: 179 of 395 operations complete\n"
     ]
    },
    {
     "name": "stdout",
     "output_type": "stream",
     "text": [
      "100/100 [==============================] - 96s 962ms/step - loss: 1.1595 - acc: 0.9166 - val_loss: 1.0807 - val_acc: 0.9340\n",
      "\n",
      "Epoch 00001: val_loss improved from inf to 1.08070, saving model to ModelWeights/CONV_BW.h5\n",
      "Epoch 2/2000\n",
      "100/100 [==============================] - 84s 837ms/step - loss: 1.0822 - acc: 0.9392 - val_loss: 1.0126 - val_acc: 0.9602\n",
      "\n",
      "Epoch 00002: val_loss improved from 1.08070 to 1.01260, saving model to ModelWeights/CONV_BW.h5\n",
      "Epoch 3/2000\n",
      "100/100 [==============================] - 82s 818ms/step - loss: 1.0609 - acc: 0.9458 - val_loss: 0.9989 - val_acc: 0.9622\n",
      "\n",
      "Epoch 00003: val_loss improved from 1.01260 to 0.99885, saving model to ModelWeights/CONV_BW.h5\n",
      "Epoch 4/2000\n",
      "100/100 [==============================] - 82s 816ms/step - loss: 1.0496 - acc: 0.9427 - val_loss: 1.0028 - val_acc: 0.9541\n",
      "\n",
      "Epoch 00004: val_loss did not improve from 0.99885\n",
      "Epoch 5/2000\n",
      "100/100 [==============================] - 81s 811ms/step - loss: 1.0475 - acc: 0.9392 - val_loss: 1.0113 - val_acc: 0.9471\n",
      "\n",
      "Epoch 00005: val_loss did not improve from 0.99885\n",
      "Epoch 6/2000\n",
      "100/100 [==============================] - 81s 805ms/step - loss: 1.0283 - acc: 0.9425 - val_loss: 0.9585 - val_acc: 0.9698\n",
      "\n",
      "Epoch 00006: val_loss improved from 0.99885 to 0.95852, saving model to ModelWeights/CONV_BW.h5\n",
      "Epoch 7/2000\n",
      "100/100 [==============================] - 81s 811ms/step - loss: 1.0241 - acc: 0.9408 - val_loss: 0.9744 - val_acc: 0.9516\n",
      "\n",
      "Epoch 00007: val_loss did not improve from 0.95852\n",
      "Epoch 8/2000\n",
      "100/100 [==============================] - 81s 806ms/step - loss: 1.0112 - acc: 0.9409 - val_loss: 0.9484 - val_acc: 0.9597\n",
      "\n",
      "Epoch 00008: val_loss improved from 0.95852 to 0.94837, saving model to ModelWeights/CONV_BW.h5\n",
      "Epoch 9/2000\n",
      "100/100 [==============================] - 81s 814ms/step - loss: 1.0024 - acc: 0.9402 - val_loss: 0.9252 - val_acc: 0.9708\n",
      "\n",
      "Epoch 00009: val_loss improved from 0.94837 to 0.92524, saving model to ModelWeights/CONV_BW.h5\n",
      "Epoch 10/2000\n",
      "100/100 [==============================] - 81s 813ms/step - loss: 0.9887 - acc: 0.9428 - val_loss: 1.0396 - val_acc: 0.9199\n",
      "\n",
      "Epoch 00010: val_loss did not improve from 0.92524\n",
      "Epoch 11/2000\n",
      "100/100 [==============================] - 81s 808ms/step - loss: 0.9734 - acc: 0.9462 - val_loss: 0.8999 - val_acc: 0.9738\n",
      "\n",
      "Epoch 00011: val_loss improved from 0.92524 to 0.89992, saving model to ModelWeights/CONV_BW.h5\n",
      "Epoch 12/2000\n",
      "100/100 [==============================] - 82s 820ms/step - loss: 0.9494 - acc: 0.9505 - val_loss: 0.8858 - val_acc: 0.9768\n",
      "\n",
      "Epoch 00012: val_loss improved from 0.89992 to 0.88582, saving model to ModelWeights/CONV_BW.h5\n",
      "Epoch 13/2000\n",
      "100/100 [==============================] - 81s 813ms/step - loss: 0.9610 - acc: 0.9449 - val_loss: 0.9720 - val_acc: 0.9335\n",
      "\n",
      "Epoch 00013: val_loss did not improve from 0.88582\n",
      "Epoch 14/2000\n",
      "100/100 [==============================] - 80s 802ms/step - loss: 0.9434 - acc: 0.9487 - val_loss: 0.9073 - val_acc: 0.9546\n",
      "\n",
      "Epoch 00014: val_loss did not improve from 0.88582\n",
      "Epoch 15/2000\n",
      "100/100 [==============================] - 80s 795ms/step - loss: 0.9456 - acc: 0.9438 - val_loss: 0.8616 - val_acc: 0.9748\n",
      "\n",
      "Epoch 00015: val_loss improved from 0.88582 to 0.86161, saving model to ModelWeights/CONV_BW.h5\n",
      "Epoch 16/2000\n",
      "100/100 [==============================] - 79s 787ms/step - loss: 0.9224 - acc: 0.9495 - val_loss: 0.8828 - val_acc: 0.9561\n",
      "\n",
      "Epoch 00016: val_loss did not improve from 0.86161\n",
      "Epoch 17/2000\n",
      "100/100 [==============================] - 80s 804ms/step - loss: 0.9280 - acc: 0.9460 - val_loss: 0.8424 - val_acc: 0.9773\n",
      "\n",
      "Epoch 00017: val_loss improved from 0.86161 to 0.84244, saving model to ModelWeights/CONV_BW.h5\n",
      "Epoch 18/2000\n",
      "100/100 [==============================] - 79s 786ms/step - loss: 0.9239 - acc: 0.9439 - val_loss: 0.8392 - val_acc: 0.9728\n",
      "\n",
      "Epoch 00018: val_loss improved from 0.84244 to 0.83915, saving model to ModelWeights/CONV_BW.h5\n",
      "Epoch 19/2000\n",
      "100/100 [==============================] - 80s 795ms/step - loss: 0.9128 - acc: 0.9471 - val_loss: 0.8282 - val_acc: 0.9763\n",
      "\n",
      "Epoch 00019: val_loss improved from 0.83915 to 0.82816, saving model to ModelWeights/CONV_BW.h5\n",
      "Epoch 20/2000\n",
      "100/100 [==============================] - 80s 801ms/step - loss: 0.8861 - acc: 0.9532 - val_loss: 0.8167 - val_acc: 0.9783\n",
      "\n",
      "Epoch 00020: val_loss improved from 0.82816 to 0.81668, saving model to ModelWeights/CONV_BW.h5\n",
      "Epoch 21/2000\n",
      "100/100 [==============================] - 81s 807ms/step - loss: 0.8675 - acc: 0.9581 - val_loss: 0.8164 - val_acc: 0.9788\n",
      "\n",
      "Epoch 00021: val_loss improved from 0.81668 to 0.81644, saving model to ModelWeights/CONV_BW.h5\n",
      "Epoch 22/2000\n",
      "100/100 [==============================] - 79s 794ms/step - loss: 0.8783 - acc: 0.9513 - val_loss: 0.9248 - val_acc: 0.9249\n",
      "\n",
      "Epoch 00022: val_loss did not improve from 0.81644\n",
      "Epoch 23/2000\n",
      "100/100 [==============================] - 80s 799ms/step - loss: 0.8643 - acc: 0.9546 - val_loss: 0.7988 - val_acc: 0.9788\n",
      "\n",
      "Epoch 00023: val_loss improved from 0.81644 to 0.79879, saving model to ModelWeights/CONV_BW.h5\n",
      "Epoch 24/2000\n",
      "100/100 [==============================] - 80s 804ms/step - loss: 0.8633 - acc: 0.9534 - val_loss: 0.8265 - val_acc: 0.9592\n",
      "\n",
      "Epoch 00024: val_loss did not improve from 0.79879\n",
      "Epoch 25/2000\n",
      "100/100 [==============================] - 80s 801ms/step - loss: 0.8433 - acc: 0.9579 - val_loss: 0.8075 - val_acc: 0.9677\n",
      "\n",
      "Epoch 00025: val_loss did not improve from 0.79879\n",
      "Epoch 26/2000\n",
      "100/100 [==============================] - 80s 800ms/step - loss: 0.8346 - acc: 0.9605 - val_loss: 0.8197 - val_acc: 0.9536\n",
      "\n",
      "Epoch 00026: val_loss did not improve from 0.79879\n",
      "Epoch 27/2000\n",
      "100/100 [==============================] - 80s 802ms/step - loss: 0.8401 - acc: 0.9525 - val_loss: 0.8072 - val_acc: 0.9567\n",
      "\n",
      "Epoch 00027: val_loss did not improve from 0.79879\n",
      "Epoch 28/2000\n",
      "100/100 [==============================] - 79s 786ms/step - loss: 0.8181 - acc: 0.9607 - val_loss: 0.8151 - val_acc: 0.9521\n",
      "\n",
      "Epoch 00028: val_loss did not improve from 0.79879\n",
      "Epoch 29/2000\n",
      "100/100 [==============================] - 79s 786ms/step - loss: 0.8072 - acc: 0.9634 - val_loss: 0.7529 - val_acc: 0.9808\n",
      "\n",
      "Epoch 00029: val_loss improved from 0.79879 to 0.75293, saving model to ModelWeights/CONV_BW.h5\n",
      "Epoch 30/2000\n",
      "100/100 [==============================] - 79s 786ms/step - loss: 0.8012 - acc: 0.9640 - val_loss: 0.7561 - val_acc: 0.9768\n",
      "\n",
      "Epoch 00030: val_loss did not improve from 0.75293\n",
      "Epoch 31/2000\n",
      "100/100 [==============================] - 79s 792ms/step - loss: 0.7921 - acc: 0.9673 - val_loss: 0.7628 - val_acc: 0.9753\n",
      "\n",
      "Epoch 00031: val_loss did not improve from 0.75293\n",
      "Epoch 32/2000\n",
      "100/100 [==============================] - 79s 794ms/step - loss: 0.7877 - acc: 0.9703 - val_loss: 0.7637 - val_acc: 0.9773\n",
      "\n",
      "Epoch 00032: val_loss did not improve from 0.75293\n",
      "Epoch 33/2000\n",
      "100/100 [==============================] - 79s 795ms/step - loss: 0.7886 - acc: 0.9697 - val_loss: 0.7599 - val_acc: 0.9778\n",
      "\n",
      "Epoch 00033: val_loss did not improve from 0.75293\n",
      "Epoch 34/2000\n",
      "100/100 [==============================] - 79s 792ms/step - loss: 0.7865 - acc: 0.9692 - val_loss: 0.7768 - val_acc: 0.9682\n",
      "\n",
      "Epoch 00034: val_loss did not improve from 0.75293\n",
      "Epoch 35/2000\n",
      "100/100 [==============================] - 79s 787ms/step - loss: 0.7829 - acc: 0.9693 - val_loss: 0.7549 - val_acc: 0.9778\n",
      "\n",
      "Epoch 00035: val_loss did not improve from 0.75293\n",
      "Epoch 36/2000\n",
      "100/100 [==============================] - 79s 788ms/step - loss: 0.7835 - acc: 0.9681 - val_loss: 0.7540 - val_acc: 0.9778\n",
      "\n",
      "Epoch 00036: val_loss did not improve from 0.75293\n",
      "Epoch 37/2000\n",
      "100/100 [==============================] - 79s 794ms/step - loss: 0.7823 - acc: 0.9713 - val_loss: 0.7633 - val_acc: 0.9763\n",
      "\n",
      "Epoch 00037: val_loss did not improve from 0.75293\n",
      "Epoch 38/2000\n",
      "100/100 [==============================] - 80s 801ms/step - loss: 0.7810 - acc: 0.9720 - val_loss: 0.7549 - val_acc: 0.9778\n",
      "\n",
      "Epoch 00038: val_loss did not improve from 0.75293\n",
      "Epoch 39/2000\n",
      "100/100 [==============================] - 79s 793ms/step - loss: 0.7859 - acc: 0.9690 - val_loss: 0.7605 - val_acc: 0.9773\n",
      "\n",
      "Epoch 00039: val_loss did not improve from 0.75293\n",
      "Epoch 00039: early stopping\n"
     ]
    }
   ],
   "source": [
    "early_stopping = EarlyStopping(monitor='val_loss', verbose = 1, patience=10, min_delta = .00075)\n",
    "model_checkpoint = ModelCheckpoint(f'ModelWeights/CONV_{model_name}.h5', verbose = 1, save_best_only=True,\n",
    "                                  monitor = 'val_loss')\n",
    "lr_plat = ReduceLROnPlateau(patience = 5, mode = 'min')\n",
    "epochs = 2000\n",
    "batch_size = 100\n",
    "    \n",
    "\n",
    "dim = (x_train.shape[1], x_train.shape[2], x_train.shape[3])\n",
    "normal_model = get_conv_model(dim =dim)\n",
    "\n",
    "normal_model.load_weights(f'ModelWeights/CONV_{model_name}.h5') \n",
    "\n",
    "augmentation =ImageDataGenerator(rotation_range = 20, width_shift_range = .2, height_shift_range = .2, \n",
    "                                                       horizontal_flip = True, shear_range = .15, \n",
    "                                 fill_mode = 'nearest', zoom_range = .15)\n",
    "augmentation.fit(x_train)\n",
    "normal_history = normal_model.fit_generator(augmentation.flow(x_train, y_train, batch_size = batch_size),\n",
    "            epochs = epochs, \n",
    "     callbacks = [early_stopping, model_checkpoint, lr_plat], validation_data = (x_test, y_test), verbose= 1)"
   ]
  },
  {
   "cell_type": "code",
   "execution_count": 16,
   "metadata": {},
   "outputs": [
    {
     "data": {
      "image/png": "[encoded data removed]",
      "text/plain": [
       "<Figure size 720x360 with 2 Axes>"
      ]
     },
     "metadata": {},
     "output_type": "display_data"
    }
   ],
   "source": [
    "Viz.plot_loss_accuracy(normal_history, 'dark_background')"
   ]
  },
  {
   "cell_type": "code",
   "execution_count": 17,
   "metadata": {},
   "outputs": [
    {
     "name": "stderr",
     "output_type": "stream",
     "text": [
      "F:\\Python\\FaceMaskEmotionDetection\\FaceMaskEmotionDetection\\Viz.py:138: MatplotlibDeprecationWarning: Passing the minor parameter of set_ticks() positionally is deprecated since Matplotlib 3.2; the parameter will become keyword-only two minor releases later.\n",
      "  ax[0].set_xticks(tick_marks, classes)\n",
      "F:\\Python\\FaceMaskEmotionDetection\\FaceMaskEmotionDetection\\Viz.py:139: MatplotlibDeprecationWarning: Passing the minor parameter of set_ticks() positionally is deprecated since Matplotlib 3.2; the parameter will become keyword-only two minor releases later.\n",
      "  ax[0].set_yticks(tick_marks, classes)\n",
      "F:\\Python\\FaceMaskEmotionDetection\\FaceMaskEmotionDetection\\Viz.py:158: MatplotlibDeprecationWarning: Passing the minor parameter of set_ticks() positionally is deprecated since Matplotlib 3.2; the parameter will become keyword-only two minor releases later.\n",
      "  ax[1].set_xticks(tick_marks, classes)\n",
      "F:\\Python\\FaceMaskEmotionDetection\\FaceMaskEmotionDetection\\Viz.py:159: MatplotlibDeprecationWarning: Passing the minor parameter of set_ticks() positionally is deprecated since Matplotlib 3.2; the parameter will become keyword-only two minor releases later.\n",
      "  ax[1].set_yticks(tick_marks, classes)\n"
     ]
    },
    {
     "data": {
      "image/png": "[encoded data removed]",
      "text/plain": [
       "<Figure size 576x576 with 2 Axes>"
      ]
     },
     "metadata": {},
     "output_type": "display_data"
    }
   ],
   "source": [
    "y_test_prob = [np.argmax(i) for i in normal_model.predict(x_test)]\n",
    "y_test_labels = [np.argmax(\n",
    "    i) for i in y_test]\n",
    "test_cnf = confusion_matrix(y_test_labels, y_test_prob)\n",
    "\n",
    "y_train_prob = [np.argmax(i) for i in normal_model.predict(x_train)]\n",
    "y_train_labels = [np.argmax(i) for i in y_train]\n",
    "train_cnf = confusion_matrix(y_train_labels, y_train_prob)\n",
    "\n",
    "#this function creates a confusion matrix given the confusion matrixes of test and train\n",
    "Viz.plot_model_cm(test_cnf, train_cnf, classes = ['No Mask', 'Mask'], theme = 'dark_background')"
   ]
  },
  {
   "cell_type": "code",
   "execution_count": 11,
   "metadata": {},
   "outputs": [],
   "source": [
    "import time\n",
    "\n",
    "time.sleep(1200)"
   ]
  },
  {
   "cell_type": "markdown",
   "metadata": {},
   "source": [
    "### Mobilenet"
   ]
  },
  {
   "cell_type": "code",
   "execution_count": 12,
   "metadata": {},
   "outputs": [],
   "source": [
    "def get_mobilenet(dim):\n",
    "    model = Sequential()\n",
    "    optimizer = Adam(lr = .0005)\n",
    "    baseModel = MobileNetV2(weights=\"imagenet\", include_top=False,\n",
    "        input_tensor=Input(shape=dim))\n",
    "    \n",
    "    model.add(baseModel)\n",
    "    model.add(AveragePooling2D(pool_size=(7, 7)))\n",
    "    model.add(Flatten(name=\"flatten\"))\n",
    "    model.add(Dense(256, activation=\"relu\"))\n",
    "    model.add(Dropout(0.3))\n",
    "    model.add(Dense(2, activation=\"sigmoid\", name = 'Output'))\n",
    "\n",
    "    \n",
    "    for layer in baseModel.layers:\n",
    "        layer.trainable = False\n",
    "        \n",
    "    model.compile(loss = 'binary_crossentropy', optimizer = optimizer, metrics = ['accuracy'])\n",
    "    return model"
   ]
  },
  {
   "cell_type": "code",
   "execution_count": 13,
   "metadata": {},
   "outputs": [
    {
     "name": "stderr",
     "output_type": "stream",
     "text": [
      "F:\\ProgramFiles\\conda\\envs\\FaceMaskEmotionDetection\\lib\\site-packages\\keras_applications\\mobilenet_v2.py:294: UserWarning: `input_shape` is undefined or non-square, or `rows` is not in [96, 128, 160, 192, 224]. Weights for input shape (224, 224) will be loaded as the default.\n",
      "  warnings.warn('`input_shape` is undefined or non-square, '\n"
     ]
    },
    {
     "name": "stdout",
     "output_type": "stream",
     "text": [
      "Epoch 1/2000\n"
     ]
    },
    {
     "name": "stderr",
     "output_type": "stream",
     "text": [
      "INFO:plaidml:Analyzing Ops: 1808 of 2052 operations complete\n"
     ]
    },
    {
     "name": "stdout",
     "output_type": "stream",
     "text": [
      "313/313 [==============================] - 152s 485ms/step - loss: 0.1475 - acc: 0.9404 - val_loss: 0.1884 - val_acc: 0.9153\n",
      "\n",
      "Epoch 00001: val_loss improved from inf to 0.18840, saving model to ModelWeights/Mobilenet1.h5\n",
      "Epoch 2/2000\n",
      "313/313 [==============================] - 112s 356ms/step - loss: 0.0911 - acc: 0.9667 - val_loss: 0.1224 - val_acc: 0.9446\n",
      "\n",
      "Epoch 00002: val_loss improved from 0.18840 to 0.12244, saving model to ModelWeights/Mobilenet1.h5\n",
      "Epoch 3/2000\n",
      "313/313 [==============================] - 113s 361ms/step - loss: 0.0757 - acc: 0.9719 - val_loss: 0.1347 - val_acc: 0.9380\n",
      "\n",
      "Epoch 00003: val_loss did not improve from 0.12244\n",
      "Epoch 4/2000\n",
      "313/313 [==============================] - 113s 361ms/step - loss: 0.0882 - acc: 0.9674 - val_loss: 0.0512 - val_acc: 0.9834\n",
      "\n",
      "Epoch 00004: val_loss improved from 0.12244 to 0.05116, saving model to ModelWeights/Mobilenet1.h5\n",
      "Epoch 5/2000\n",
      "313/313 [==============================] - 116s 369ms/step - loss: 0.0614 - acc: 0.9783 - val_loss: 0.0528 - val_acc: 0.9824\n",
      "\n",
      "Epoch 00005: val_loss did not improve from 0.05116\n",
      "Epoch 6/2000\n",
      "313/313 [==============================] - 118s 377ms/step - loss: 0.0659 - acc: 0.9756 - val_loss: 0.0783 - val_acc: 0.9637\n",
      "\n",
      "Epoch 00006: val_loss did not improve from 0.05116\n",
      "Epoch 7/2000\n",
      "313/313 [==============================] - 115s 367ms/step - loss: 0.0674 - acc: 0.9746 - val_loss: 0.1325 - val_acc: 0.9395\n",
      "\n",
      "Epoch 00007: val_loss did not improve from 0.05116\n",
      "Epoch 8/2000\n",
      "313/313 [==============================] - 113s 362ms/step - loss: 0.0583 - acc: 0.9793 - val_loss: 0.0521 - val_acc: 0.9798\n",
      "\n",
      "Epoch 00008: val_loss did not improve from 0.05116\n",
      "Epoch 9/2000\n",
      "313/313 [==============================] - 114s 363ms/step - loss: 0.0747 - acc: 0.9715 - val_loss: 0.0400 - val_acc: 0.9849\n",
      "\n",
      "Epoch 00009: val_loss improved from 0.05116 to 0.04003, saving model to ModelWeights/Mobilenet1.h5\n",
      "Epoch 10/2000\n",
      "313/313 [==============================] - 112s 359ms/step - loss: 0.0562 - acc: 0.9797 - val_loss: 0.1175 - val_acc: 0.9501\n",
      "\n",
      "Epoch 00010: val_loss did not improve from 0.04003\n",
      "Epoch 11/2000\n",
      "313/313 [==============================] - 113s 361ms/step - loss: 0.0563 - acc: 0.9790 - val_loss: 0.0603 - val_acc: 0.9703\n",
      "\n",
      "Epoch 00011: val_loss did not improve from 0.04003\n",
      "Epoch 12/2000\n",
      "313/313 [==============================] - 113s 360ms/step - loss: 0.0536 - acc: 0.9798 - val_loss: 0.1147 - val_acc: 0.9546\n",
      "\n",
      "Epoch 00012: val_loss did not improve from 0.04003\n",
      "Epoch 13/2000\n",
      "313/313 [==============================] - 113s 360ms/step - loss: 0.0600 - acc: 0.9782 - val_loss: 0.0579 - val_acc: 0.9723\n",
      "\n",
      "Epoch 00013: val_loss did not improve from 0.04003\n",
      "Epoch 14/2000\n",
      "313/313 [==============================] - 114s 363ms/step - loss: 0.0451 - acc: 0.9836 - val_loss: 0.1079 - val_acc: 0.9526\n",
      "\n",
      "Epoch 00014: val_loss did not improve from 0.04003\n",
      "Epoch 15/2000\n",
      "313/313 [==============================] - 113s 362ms/step - loss: 0.0435 - acc: 0.9833 - val_loss: 0.0537 - val_acc: 0.9748\n",
      "\n",
      "Epoch 00015: val_loss did not improve from 0.04003\n",
      "Epoch 16/2000\n",
      "313/313 [==============================] - 113s 362ms/step - loss: 0.0444 - acc: 0.9846 - val_loss: 0.0482 - val_acc: 0.9808\n",
      "\n",
      "Epoch 00016: val_loss did not improve from 0.04003\n",
      "Epoch 17/2000\n",
      "313/313 [==============================] - 113s 361ms/step - loss: 0.0429 - acc: 0.9847 - val_loss: 0.0926 - val_acc: 0.9561\n",
      "\n",
      "Epoch 00017: val_loss did not improve from 0.04003\n",
      "Epoch 18/2000\n",
      "313/313 [==============================] - 113s 360ms/step - loss: 0.0408 - acc: 0.9853 - val_loss: 0.0824 - val_acc: 0.9592\n",
      "\n",
      "Epoch 00018: val_loss did not improve from 0.04003\n",
      "Epoch 19/2000\n",
      "313/313 [==============================] - 113s 362ms/step - loss: 0.0388 - acc: 0.9862 - val_loss: 0.0609 - val_acc: 0.9728\n",
      "\n",
      "Epoch 00019: val_loss did not improve from 0.04003\n",
      "Epoch 00019: early stopping\n"
     ]
    }
   ],
   "source": [
    "early_stopping = EarlyStopping(monitor='val_loss', verbose = 1, patience=10, min_delta = .00075)\n",
    "model_checkpoint = ModelCheckpoint(f'ModelWeights/Mobilenet_{model_name}.h5', verbose = 1, save_best_only=True,\n",
    "                                  monitor = 'val_loss')\n",
    "lr_plat = ReduceLROnPlateau(patience = 5, mode = 'min')\n",
    "epochs = 2000\n",
    "batch_size = 32\n",
    "    \n",
    "\n",
    "dim = (x_train.shape[1], x_train.shape[2], x_train.shape[3])\n",
    "mobilenet = get_mobilenet(dim =dim)\n",
    "\n",
    "    \n",
    "augmentation =ImageDataGenerator(rotation_range = 20, width_shift_range = .2, height_shift_range = .2, \n",
    "                                                       horizontal_flip = True, shear_range = .15, \n",
    "                                 fill_mode = 'nearest', zoom_range = .15)\n",
    "augmentation.fit(x_train)\n",
    "mobilenet_history = mobilenet.fit_generator(augmentation.flow(x_train, y_train, batch_size = batch_size),\n",
    "            epochs = epochs, \n",
    "     callbacks = [early_stopping, model_checkpoint, lr_plat], validation_data = (x_test, y_test), verbose= 1)"
   ]
  },
  {
   "cell_type": "code",
   "execution_count": 14,
   "metadata": {},
   "outputs": [
    {
     "data": {
      "application/javascript": [
       "IPython.notebook.save_notebook()\n"
      ],
      "text/plain": [
       "<IPython.core.display.Javascript object>"
      ]
     },
     "metadata": {},
     "output_type": "display_data"
    }
   ],
   "source": [
    "\n",
    "%%javascript\n",
    "IPython.notebook.save_notebook()"
   ]
  },
  {
   "cell_type": "code",
   "execution_count": 15,
   "metadata": {},
   "outputs": [
    {
     "data": {
      "text/plain": [
       "0"
      ]
     },
     "execution_count": 15,
     "metadata": {},
     "output_type": "execute_result"
    }
   ],
   "source": [
    "os.system(r'%windir%\\system32\\rundll32.exe powrprof.dll,SetSuspendState Hibernate')"
   ]
  },
  {
   "cell_type": "code",
   "execution_count": null,
   "metadata": {},
   "outputs": [],
   "source": []
  }
 ],
 "metadata": {
  "kernelspec": {
   "display_name": "FaceMaskEmotionDetection",
   "language": "python",
   "name": "facemaskemotiondetection"
  },
  "language_info": {
   "codemirror_mode": {
    "name": "ipython",
    "version": 3
   },
   "file_extension": ".py",
   "mimetype": "text/x-python",
   "name": "python",
   "nbconvert_exporter": "python",
   "pygments_lexer": "ipython3",
   "version": "3.8.5"
  }
 },
 "nbformat": 4,
 "nbformat_minor": 2
}
