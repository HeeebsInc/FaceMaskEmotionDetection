{
 "cells": [
  {
   "cell_type": "code",
   "execution_count": 1,
   "metadata": {},
   "outputs": [
    {
     "name": "stderr",
     "output_type": "stream",
     "text": [
      "Using plaidml.keras.backend backend.\n"
     ]
    }
   ],
   "source": [
    "import cv2\n",
    "import numpy as np\n",
    "from keras.models import load_model\n",
    "from keras.applications.mobilenet_v2 import preprocess_input as mobile_preprocess \n",
    "from keras.applications.vgg16 import preprocess_input as vgg_preprocess"
   ]
  },
  {
   "cell_type": "code",
   "execution_count": 5,
   "metadata": {},
   "outputs": [],
   "source": [
    "classifier = cv2.CascadeClassifier('ModelWeights/haarcascade_frontalface_default.xml')\n",
    "mask_model = load_model('ModelWeights/Mobilenet_Masks.h5')\n",
    "emotion_model = load_model('ModelWeights/Mobilenet_Emotions.h5')"
   ]
  },
  {
   "cell_type": "code",
   "execution_count": 7,
   "metadata": {},
   "outputs": [],
   "source": [
    "#live video\n",
    "\n",
    "bw = False \n",
    "cap = cv2.VideoCapture(0)\n",
    "dim = (224,224)\n",
    "mask_dict = {0: 'No Mask', 1: 'Mask'}\n",
    "mask_dict_color = {0: (0,0,255), 1: (0,255,0)}\n",
    "emotion_dict = {0: 'angry', 1: 'happy', 2: 'neutral', 3: 'sad', 4: 'disgust', 5: 'fear', 6: 'surprise'}\n",
    "\n",
    "while True: \n",
    "    ret, frame = cap.read()\n",
    "    clone = frame.copy()\n",
    "    bboxes = classifier.detectMultiScale(clone)\n",
    "    for i in bboxes: \n",
    "        x, y, width, height = i[0], i[1], i[2], i[3]\n",
    "        x2, y2 = x+ width, y+height\n",
    "        roi = clone[y:y2, x:x2]\n",
    "        roi = cv2.resize(roi, dim, interpolation = cv2.INTER_CUBIC)\n",
    "        if bw == True: \n",
    "            roi = cv2.cvtColor(roi, cv2.COLOR_BGR2GRAY)\n",
    "            roi = roi.reshape(roi.shape[0], roi.shape[1],1)\n",
    "        roi = mobile_preprocess(roi)\n",
    "        roi = roi.reshape(1, roi.shape[0], roi.shape[1], roi.shape[2])\n",
    "        mask_predict = mask_model.predict(roi)[0]\n",
    "        mask_idx = np.argmax(mask_predict)\n",
    "        mask_conf = f'{round(np.max(mask_predict))*100}%'\n",
    "        mask_cat = mask_dict[mask_idx]\n",
    "        mask_color = mask_dict_color[mask_idx]\n",
    "        if mask_idx == 0:\n",
    "            emotion_predict = emotion_model.predict(roi)[0]\n",
    "            emotion_idx = np.argmax(emotion_predict)\n",
    "            emotion_cat = emotion_dict[emotion_idx]\n",
    "            emotion_conf = f'{round(np.max(emotion_predict))*100}%'\n",
    "            cv2.putText(clone, f'{mask_cat}: {mask_conf} || {emotion_cat}: {emotion_conf}', (x, y+15), cv2.FONT_HERSHEY_SIMPLEX, .5, mask_color, 2)\n",
    "            cv2.rectangle(clone, (x,y), (x2,y2), mask_color, 1)\n",
    "            continue\n",
    "        cv2.putText(clone, f'{mask_cat}: {mask_conf}', (x, y+15), cv2.FONT_HERSHEY_SIMPLEX, .5, mask_color, 2)\n",
    "        cv2.rectangle(clone, (x,y), (x2,y2), mask_color, 1)\n",
    "        \n",
    "        \n",
    "    \n",
    "    cv2.imshow('LIVE', clone)\n",
    "    \n",
    "    if cv2.waitKey(1) & 0xFF ==ord('q'): \n",
    "        break \n",
    "cap.release()\n",
    "\n",
    "cv2.destroyAllWindows()"
   ]
  },
  {
   "cell_type": "code",
   "execution_count": null,
   "metadata": {},
   "outputs": [],
   "source": []
  },
  {
   "cell_type": "code",
   "execution_count": null,
   "metadata": {},
   "outputs": [],
   "source": [
    "img = cv2.imread('../multiple.png')"
   ]
  },
  {
   "cell_type": "code",
   "execution_count": null,
   "metadata": {},
   "outputs": [],
   "source": [
    "bboxes = classifier.detectMultiScale(img)"
   ]
  },
  {
   "cell_type": "code",
   "execution_count": null,
   "metadata": {},
   "outputs": [],
   "source": [
    "clone = img.copy()\n",
    "for i in bboxes: \n",
    "    x, y, width, height = i[0], i[1], i[2], i[3]\n",
    "    x2, y2 = x+ width, y+height\n",
    "    cv2.rectangle(clone, (x,y), (x2,y2), (0,0,255), 1)\n",
    "    \n",
    "    \n",
    "cv2.imshow('test', clone)\n",
    "cv2.waitKey(0)\n",
    "cv2.destroyAllWindows()\n",
    "    "
   ]
  },
  {
   "cell_type": "code",
   "execution_count": null,
   "metadata": {},
   "outputs": [],
   "source": []
  }
 ],
 "metadata": {
  "kernelspec": {
   "display_name": "FaceMaskEmotionDetection",
   "language": "python",
   "name": "facemaskemotiondetection"
  },
  "language_info": {
   "codemirror_mode": {
    "name": "ipython",
    "version": 3
   },
   "file_extension": ".py",
   "mimetype": "text/x-python",
   "name": "python",
   "nbconvert_exporter": "python",
   "pygments_lexer": "ipython3",
   "version": "3.8.5"
  }
 },
 "nbformat": 4,
 "nbformat_minor": 2
}
