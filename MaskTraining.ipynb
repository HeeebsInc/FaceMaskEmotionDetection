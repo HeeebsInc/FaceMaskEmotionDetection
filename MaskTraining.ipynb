{
 "cells": [
  {
   "cell_type": "code",
   "execution_count": 1,
   "metadata": {},
   "outputs": [
    {
     "name": "stderr",
     "output_type": "stream",
     "text": [
      "Using plaidml.keras.backend backend.\n"
     ]
    }
   ],
   "source": [
    "from keras.preprocessing.image import ImageDataGenerator\n",
    "from keras.applications import MobileNetV2\n",
    "from keras.layers import AveragePooling2D, Dropout, Flatten, Dense, Input, GlobalAveragePooling2D\n",
    "from keras.models import Model, Sequential\n",
    "from keras.optimizers import Adam\n",
    "from keras.applications.mobilenet_v2 import preprocess_input\n",
    "from sklearn.metrics import classification_report, confusion_matrix\n",
    "import matplotlib.pyplot as plt\n",
    "import numpy as np\n",
    "import pickle\n",
    "import os\n",
    "from keras.callbacks import ModelCheckpoint, EarlyStopping, ReduceLROnPlateau\n",
    "import cv2"
   ]
  },
  {
   "cell_type": "code",
   "execution_count": 2,
   "metadata": {},
   "outputs": [],
   "source": [
    "def get_pickles():\n",
    "    combined_dict = pickle.load(open('../Pickles/TTSDict.p', 'rb'))\n",
    "    \n",
    "    x_train = combined_dict['train']['images']\n",
    "    x_test = combined_dict['test']['images']\n",
    "    \n",
    "    y_train = combined_dict['train']['labels']\n",
    "    y_test = combined_dict['test']['labels']\n",
    "    \n",
    "    validation = combined_dict['validation']\n",
    "    \n",
    "    return x_train, x_test, y_train, y_test, validation \n",
    "\n",
    "x_train, x_test, y_train, y_test, validation  = get_pickles() "
   ]
  },
  {
   "cell_type": "code",
   "execution_count": 3,
   "metadata": {},
   "outputs": [
    {
     "name": "stdout",
     "output_type": "stream",
     "text": [
      "(10000, 250, 250, 3) (992, 250, 250, 3)\n",
      "(10000,) (992,)\n"
     ]
    }
   ],
   "source": [
    "print(x_train.shape, x_test.shape)\n",
    "print(y_train.shape, y_test.shape)"
   ]
  },
  {
   "cell_type": "code",
   "execution_count": null,
   "metadata": {},
   "outputs": [],
   "source": []
  },
  {
   "cell_type": "code",
   "execution_count": 4,
   "metadata": {},
   "outputs": [],
   "source": [
    "def get_mobilenet(dim):\n",
    "    model = Sequential()\n",
    "    optimizer = Adam(lr = .0005)\n",
    "    baseModel = MobileNetV2(weights=\"imagenet\", include_top=False,\n",
    "        input_tensor=Input(shape=dim))\n",
    "    \n",
    "    model.add(baseModel)\n",
    "    model.add(AveragePooling2D(pool_size=(7, 7)))\n",
    "    model.add(Flatten(name=\"flatten\"))\n",
    "    model.add(Dense(256, activation=\"relu\"))\n",
    "    model.add(Dropout(0.3))\n",
    "    model.add(Dense(1, activation=\"sigmoid\", name = 'Output'))\n",
    "\n",
    "    \n",
    "    for layer in baseModel.layers:\n",
    "        layer.trainable = False\n",
    "        \n",
    "    model.compile(loss = 'binary_crossentropy', optimizer = optimizer, metrics = ['accuracy'])\n",
    "    return model"
   ]
  },
  {
   "cell_type": "code",
   "execution_count": null,
   "metadata": {},
   "outputs": [
    {
     "name": "stderr",
     "output_type": "stream",
     "text": [
      "INFO:plaidml:Opening device \"opencl_amd_ellesmere.0\"\n",
      "F:\\ProgramFiles\\conda\\envs\\FaceMaskEmotionDetection\\lib\\site-packages\\keras_applications\\mobilenet_v2.py:294: UserWarning: `input_shape` is undefined or non-square, or `rows` is not in [96, 128, 160, 192, 224]. Weights for input shape (224, 224) will be loaded as the default.\n",
      "  warnings.warn('`input_shape` is undefined or non-square, '\n"
     ]
    },
    {
     "name": "stdout",
     "output_type": "stream",
     "text": [
      "Epoch 1/2000\n",
      "162/313 [==============>...............] - ETA: 1:19 - loss: 0.1684 - acc: 0.9321"
     ]
    },
    {
     "name": "stderr",
     "output_type": "stream",
     "text": [
      "INFO:plaidml:Analyzing Ops: 1808 of 2049 operations complete\n"
     ]
    },
    {
     "name": "stdout",
     "output_type": "stream",
     "text": [
      "313/313 [==============================] - 175s 559ms/step - loss: 0.1360 - acc: 0.9472 - val_loss: 0.2561 - val_acc: 0.8931\n",
      "\n",
      "Epoch 00001: val_loss improved from inf to 0.25612, saving model to ModelWeights/Mobilenet1.h5\n",
      "Epoch 2/2000\n",
      "313/313 [==============================] - 136s 435ms/step - loss: 0.1010 - acc: 0.9657 - val_loss: 0.1712 - val_acc: 0.9194\n",
      "\n",
      "Epoch 00002: val_loss improved from 0.25612 to 0.17125, saving model to ModelWeights/Mobilenet1.h5\n",
      "Epoch 3/2000\n",
      "313/313 [==============================] - 149s 476ms/step - loss: 0.0850 - acc: 0.9684 - val_loss: 0.1228 - val_acc: 0.9395\n",
      "\n",
      "Epoch 00003: val_loss improved from 0.17125 to 0.12283, saving model to ModelWeights/Mobilenet1.h5\n",
      "Epoch 4/2000\n",
      "313/313 [==============================] - 140s 448ms/step - loss: 0.0859 - acc: 0.9681 - val_loss: 0.1080 - val_acc: 0.9516\n",
      "\n",
      "Epoch 00004: val_loss improved from 0.12283 to 0.10800, saving model to ModelWeights/Mobilenet1.h5\n",
      "Epoch 5/2000\n",
      "313/313 [==============================] - 138s 442ms/step - loss: 0.0757 - acc: 0.9721 - val_loss: 0.0718 - val_acc: 0.9718\n",
      "\n",
      "Epoch 00005: val_loss improved from 0.10800 to 0.07180, saving model to ModelWeights/Mobilenet1.h5\n",
      "Epoch 6/2000\n",
      "313/313 [==============================] - 138s 442ms/step - loss: 0.0672 - acc: 0.9755 - val_loss: 0.0540 - val_acc: 0.9808\n",
      "\n",
      "Epoch 00006: val_loss improved from 0.07180 to 0.05405, saving model to ModelWeights/Mobilenet1.h5\n",
      "Epoch 7/2000\n",
      "313/313 [==============================] - 141s 450ms/step - loss: 0.0616 - acc: 0.9769 - val_loss: 0.0699 - val_acc: 0.9647\n",
      "\n",
      "Epoch 00007: val_loss did not improve from 0.05405\n",
      "Epoch 8/2000\n",
      "313/313 [==============================] - 140s 448ms/step - loss: 0.0681 - acc: 0.9752 - val_loss: 0.0481 - val_acc: 0.9808\n",
      "\n",
      "Epoch 00008: val_loss improved from 0.05405 to 0.04806, saving model to ModelWeights/Mobilenet1.h5\n",
      "Epoch 9/2000\n",
      "313/313 [==============================] - 140s 448ms/step - loss: 0.0640 - acc: 0.9769 - val_loss: 0.0765 - val_acc: 0.9708\n",
      "\n",
      "Epoch 00009: val_loss did not improve from 0.04806\n",
      "Epoch 10/2000\n",
      " 68/313 [=====>........................] - ETA: 1:41 - loss: 0.0491 - acc: 0.9839"
     ]
    }
   ],
   "source": [
    "early_stopping = EarlyStopping(monitor='val_loss', verbose = 1, patience=10, min_delta = .00075)\n",
    "model_checkpoint = ModelCheckpoint('ModelWeights/Mobilenet1.h5', verbose = 1, save_best_only=True,\n",
    "                                  monitor = 'val_loss')\n",
    "lr_plat = ReduceLROnPlateau(patience = 5, mode = 'min')\n",
    "epochs = 2000\n",
    "batch_size = 32\n",
    "    \n",
    "\n",
    "dim = (x_train.shape[1], x_train.shape[2], x_train.shape[3])\n",
    "mobilenet = get_mobilenet(dim =dim)\n",
    "\n",
    "    \n",
    "augmentation =ImageDataGenerator(rotation_range = 20, width_shift_range = .2, height_shift_range = .2, \n",
    "                                                       horizontal_flip = True, shear_range = .15, \n",
    "                                 fill_mode = 'nearest', zoom_range = .15)\n",
    "augmentation.fit(x_train)\n",
    "mobilenet_history = mobilenet.fit_generator(augmentation.flow(x_train, y_train, batch_size = batch_size),\n",
    "            epochs = epochs, \n",
    "     callbacks = [early_stopping, model_checkpoint, lr_plat], validation_data = (x_test, y_test), verbose= 1)"
   ]
  },
  {
   "cell_type": "code",
   "execution_count": null,
   "metadata": {},
   "outputs": [],
   "source": []
  }
 ],
 "metadata": {
  "kernelspec": {
   "display_name": "FaceMaskEmotionDetection",
   "language": "python",
   "name": "facemaskemotiondetection"
  },
  "language_info": {
   "codemirror_mode": {
    "name": "ipython",
    "version": 3
   },
   "file_extension": ".py",
   "mimetype": "text/x-python",
   "name": "python",
   "nbconvert_exporter": "python",
   "pygments_lexer": "ipython3",
   "version": "3.8.5"
  }
 },
 "nbformat": 4,
 "nbformat_minor": 2
}
