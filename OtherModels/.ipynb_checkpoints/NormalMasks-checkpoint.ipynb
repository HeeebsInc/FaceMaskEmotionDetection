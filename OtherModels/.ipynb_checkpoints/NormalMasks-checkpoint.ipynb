{
 "cells": [
  {
   "cell_type": "code",
   "execution_count": 1,
   "metadata": {},
   "outputs": [
    {
     "name": "stderr",
     "output_type": "stream",
     "text": [
      "Using plaidml.keras.backend backend.\n"
     ]
    }
   ],
   "source": [
    "from keras.preprocessing.image import ImageDataGenerator\n",
    "from keras.layers import AveragePooling2D, Dropout, Flatten, Dense, Input, GlobalAveragePooling2D, Conv2D, MaxPooling2D\n",
    "from keras import regularizers\n",
    "from keras.models import Model, Sequential\n",
    "from keras.optimizers import Adam\n",
    "from sklearn.metrics import classification_report, confusion_matrix\n",
    "import matplotlib.pyplot as plt\n",
    "import numpy as np\n",
    "import pickle\n",
    "import os\n",
    "from keras.callbacks import ModelCheckpoint, EarlyStopping, ReduceLROnPlateau\n",
    "import cv2\n",
    "from keras.models import load_model\n",
    "from PyFunctions import Viz"
   ]
  },
  {
   "cell_type": "code",
   "execution_count": 2,
   "metadata": {},
   "outputs": [
    {
     "name": "stdout",
     "output_type": "stream",
     "text": [
      "(10000, 150, 150, 3) (992, 150, 150, 3)\n",
      "(10000, 2) (992, 2)\n"
     ]
    }
   ],
   "source": [
    "model_name = 'Normal1'\n",
    "def get_pickles(pick_name):\n",
    "    x_train, x_test, y_train, y_test, x_val, y_val = pickle.load(open(f'../Pickles/TTSMask_{pick_name}.p', 'rb'))\n",
    "    return x_train, x_test, y_train, y_test, x_val, y_val\n",
    "\n",
    "x_train, x_test, y_train, y_test, x_val, y_val  = get_pickles(model_name) \n",
    "print(x_train.shape, x_test.shape)\n",
    "print(y_train.shape, y_test.shape)"
   ]
  },
  {
   "cell_type": "code",
   "execution_count": 3,
   "metadata": {},
   "outputs": [],
   "source": [
    "def get_conv_model(dim): \n",
    "    \n",
    "    model = Sequential()\n",
    "    model.add(Conv2D(100,(3,3), activation = 'relu', input_shape = dim))\n",
    "    model.add(MaxPooling2D(2,2))\n",
    "    model.add(Conv2D(100, (3,3), activation = 'relu'))\n",
    "    model.add(MaxPooling2D(2,2))\n",
    "    model.add(Flatten())\n",
    "    model.add(Dropout(.5))\n",
    "    model.add(Dense(50, activation = 'relu'))\n",
    "    model.add(Dense(2, activation = 'sigmoid', name = 'Output'))\n",
    "    model.compile(optimizer = 'adam', loss = 'binary_crossentropy', metrics = ['accuracy'])\n",
    "    return model\n",
    "\n"
   ]
  },
  {
   "cell_type": "code",
   "execution_count": null,
   "metadata": {},
   "outputs": [
    {
     "name": "stderr",
     "output_type": "stream",
     "text": [
      "INFO:plaidml:Opening device \"opencl_amd_ellesmere.0\"\n"
     ]
    },
    {
     "name": "stdout",
     "output_type": "stream",
     "text": [
      "Epoch 1/2000\n",
      "1000/1000 [==============================] - 69s 69ms/step - loss: 0.3306 - acc: 0.8697 - val_loss: 0.2323 - val_acc: 0.9148\n",
      "\n",
      "Epoch 00001: val_loss improved from inf to 0.23231, saving model to ModelWeights/Normal_Masks.h5\n",
      "Epoch 2/2000\n",
      "1000/1000 [==============================] - 65s 65ms/step - loss: 0.2397 - acc: 0.9126 - val_loss: 0.1752 - val_acc: 0.9405\n",
      "\n",
      "Epoch 00002: val_loss improved from 0.23231 to 0.17522, saving model to ModelWeights/Normal_Masks.h5\n",
      "Epoch 3/2000\n",
      "1000/1000 [==============================] - 64s 64ms/step - loss: 0.2183 - acc: 0.9171 - val_loss: 0.1448 - val_acc: 0.9531\n",
      "\n",
      "Epoch 00003: val_loss improved from 0.17522 to 0.14478, saving model to ModelWeights/Normal_Masks.h5\n",
      "Epoch 4/2000\n",
      " 180/1000 [====>.........................] - ETA: 51s - loss: 0.1874 - acc: 0.9361"
     ]
    }
   ],
   "source": [
    "early_stopping = EarlyStopping(monitor='val_loss', verbose = 1, patience=5, min_delta = .00075)\n",
    "model_checkpoint = ModelCheckpoint(f'ModelWeights/Normal_Masks.h5', verbose = 1, save_best_only=True,\n",
    "                                  monitor = 'val_loss')\n",
    "lr_plat = ReduceLROnPlateau(patience = 5, mode = 'min')\n",
    "epochs = 2000\n",
    "batch_size = 10\n",
    "    \n",
    "\n",
    "dim = (x_train.shape[1], x_train.shape[2], x_train.shape[3])\n",
    "cnn = get_conv_model(dim =dim)\n",
    "\n",
    "    \n",
    "train_aug =ImageDataGenerator(rotation_range = 40, width_shift_range = .2, height_shift_range = .2, \n",
    "                                                       horizontal_flip = True, shear_range = .15, \n",
    "                                 fill_mode = 'nearest', zoom_range = .15)\n",
    "# augmentation.fit(x_train)\n",
    "cnn_history = cnn.fit_generator(train_aug.flow(x_train, y_train, batch_size = batch_size),\n",
    "            epochs = epochs, \n",
    "     callbacks = [early_stopping, model_checkpoint, lr_plat], validation_data = (x_test, y_test), verbose= 1)"
   ]
  },
  {
   "cell_type": "code",
   "execution_count": null,
   "metadata": {},
   "outputs": [],
   "source": [
    "Viz.plot_loss_accuracy(cnn_history, 'dark_background')"
   ]
  },
  {
   "cell_type": "code",
   "execution_count": null,
   "metadata": {},
   "outputs": [],
   "source": [
    "y_test_prob = [np.argmax(i) for i in cnn.predict(x_test)]\n",
    "y_test_labels = [np.argmax(\n",
    "    i) for i in y_test]\n",
    "test_cnf = confusion_matrix(y_test_labels, y_test_prob)\n",
    "\n",
    "val_prob = [np.argmax(i) for i in cnn.predict(x_val)]\n",
    "val_labels = [np.argmax(i) for i in y_val]\n",
    "val_cnf = confusion_matrix(val_labels, val_prob)\n",
    "\n",
    "#this function creates a confusion matrix given the confusion matrixes of test and train\n",
    "Viz.plot_model_cm(test_cnf, val_cnf, classes = ['No Mask', 'Mask'], theme = 'dark_background')"
   ]
  },
  {
   "cell_type": "code",
   "execution_count": null,
   "metadata": {},
   "outputs": [],
   "source": []
  }
 ],
 "metadata": {
  "kernelspec": {
   "display_name": "FaceMaskEmotionDetection",
   "language": "python",
   "name": "facemaskemotiondetection"
  },
  "language_info": {
   "codemirror_mode": {
    "name": "ipython",
    "version": 3
   },
   "file_extension": ".py",
   "mimetype": "text/x-python",
   "name": "python",
   "nbconvert_exporter": "python",
   "pygments_lexer": "ipython3",
   "version": "3.8.5"
  }
 },
 "nbformat": 4,
 "nbformat_minor": 2
}
