{
 "cells": [
  {
   "cell_type": "code",
   "execution_count": null,
   "metadata": {},
   "outputs": [],
   "source": [
    "import pickle\n",
    "from tqdm import tqdm\n",
    "import cv2\n",
    "import os\n",
    "from keras.preprocessing import image\n",
    "import numpy as np\n",
    "import pandas as pd"
   ]
  },
  {
   "cell_type": "code",
   "execution_count": null,
   "metadata": {},
   "outputs": [],
   "source": [
    "def get_image_value(path, dim): \n",
    "    '''This function will read an image and convert to a specified version and resize depending on which algorithm is being used.  If edge is specified as true, it will pass the img array to get_edged which returns a filtered version of the img'''\n",
    "    img = image.load_img(path, target_size = dim)\n",
    "    img = image.img_to_array(img)\n",
    "    return img/255\n",
    "\n",
    "\n",
    "def get_splits(dim): \n",
    "    \n",
    "    #Train Set\n",
    "    train_mask_path = [f'../FaceMaskDataset/Train/WithMask/{i}' for i in os.listdir('../FaceMaskDataset/Train/WithMask')]\n",
    "    train_mask_label = [1 for i in range(len(train_mask_path))]\n",
    "    train_nomask_path = [f'../FaceMaskDataset/Train/WithoutMask/{i}' for i in os.listdir('../FaceMaskDataset/Train/WithoutMask')]\n",
    "    train_nomask_label = [0 for i in range(len(train_nomask_path))]\n",
    "    \n",
    "    train_paths = train_mask_path + train_nomask_path \n",
    "    train_labels = np.array(train_mask_label + train_nomask_label) \n",
    "    train_images = np.array([get_image_value(i, dim) for i in tqdm(train_paths, desc = 'Getting Train Images')])\n",
    "    print('Train Value Counts')\n",
    "    print(pd.Series(train_labels).value_counts())\n",
    "    print('~~~~~~~~~~~~~~~~~~~~~~~~~~~~~~~~~~~~~~~~~~~~~')\n",
    "    train_dict = dict(images = train_images, labels = train_labels)\n",
    "    \n",
    "    #Test Set\n",
    "    test_mask_path = [f'../FaceMaskDataset/Test/WithMask/{i}' for i in os.listdir('../FaceMaskDataset/Test/WithMask')]\n",
    "    test_mask_label = [1 for i in range(len(test_mask_path))]\n",
    "    test_nomask_path = [f'../FaceMaskDataset/Test/WithoutMask/{i}' for i in os.listdir('../FaceMaskDataset/Test/WithoutMask')]\n",
    "    test_nomask_label = [0 for i in range(len(test_nomask_path))]\n",
    "\n",
    "    test_paths = test_mask_path + test_nomask_path\n",
    "    test_labels = np.array(test_mask_label + test_nomask_label) \n",
    "    \n",
    "    test_images = np.array([get_image_value(i, dim) for i in tqdm(test_paths, desc = 'Getting Test Images')])\n",
    "    print('Test Value Counts')\n",
    "    print(pd.Series(test_labels).value_counts())\n",
    "    print('~~~~~~~~~~~~~~~~~~~~~~~~~~~~~~~~~~~~~~~~~~~~~')\n",
    "    test_dict = dict(images = test_images, labels = test_labels)\n",
    "    \n",
    "    #Validation Set\n",
    "    val_mask_path = [f'../FaceMaskDataset/Validation/WithMask/{i}' for i in os.listdir('../FaceMaskDataset/Validation/WithMask')]\n",
    "    val_mask_label = [1 for i in range(len(val_mask_path))]\n",
    "    val_nomask_path = [f'../FaceMaskDataset/Validation/WithoutMask/{i}' for i in os.listdir('../FaceMaskDataset/Validation/WithoutMask')]\n",
    "    val_nomask_label = [0 for i in range(len(val_nomask_path))]\n",
    "    \n",
    "    val_paths = val_mask_path + val_nomask_path \n",
    "    val_labels = np.array(val_mask_label + val_nomask_label)\n",
    "    \n",
    "    val_images = np.array([get_image_value(i, dim) for i in tqdm(val_paths, desc = 'Getting Validation Images')])\n",
    "    print('Validation Value Counts')\n",
    "    print(pd.Series(val_labels).value_counts())\n",
    "    print('~~~~~~~~~~~~~~~~~~~~~~~~~~~~~~~~~~~~~~~~~~~~~')\n",
    "    val_dict = dict(images = val_images, labels = val_labels) \n",
    "    \n",
    "    return_dict = dict(train = train_dict, test = test_dict, validation = val_dict)\n",
    "    \n",
    "    print('Pickling The Data')\n",
    "    pickle.dump(return_dict, open('../Pickles/TTSDict.p', 'wb'), protocol = 4)\n",
    "    \n",
    "    return return_dict\n",
    "    \n",
    "\n",
    "dim = (250,250)\n",
    "return_dict = get_splits(dim)"
   ]
  },
  {
   "cell_type": "code",
   "execution_count": null,
   "metadata": {},
   "outputs": [],
   "source": []
  },
  {
   "cell_type": "code",
   "execution_count": null,
   "metadata": {},
   "outputs": [],
   "source": []
  }
 ],
 "metadata": {
  "kernelspec": {
   "display_name": "FaceMaskEmotionDetection",
   "language": "python",
   "name": "facemaskemotiondetection"
  },
  "language_info": {
   "codemirror_mode": {
    "name": "ipython",
    "version": 3
   },
   "file_extension": ".py",
   "mimetype": "text/x-python",
   "name": "python",
   "nbconvert_exporter": "python",
   "pygments_lexer": "ipython3",
   "version": "3.8.5"
  }
 },
 "nbformat": 4,
 "nbformat_minor": 2
}
